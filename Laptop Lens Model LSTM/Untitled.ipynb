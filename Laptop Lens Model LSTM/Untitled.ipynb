{
 "cells": [
  {
   "cell_type": "code",
   "execution_count": 4,
   "id": "be5c58d3-d654-4eb4-a2c5-52df74f5cff4",
   "metadata": {},
   "outputs": [
    {
     "name": "stdout",
     "output_type": "stream",
     "text": [
      "Data pada bulan pertama berhasil disimpan ke 'data_third_month.csv'\n"
     ]
    }
   ],
   "source": [
    "import pandas as pd\n",
    "\n",
    "# Baca data dari file CSV\n",
    "data_file = 'filtered_data_2017.csv'\n",
    "\n",
    "df = pd.read_csv(data_file)\n",
    "\n",
    "# Pastikan kolom 'date' diubah menjadi tipe datetime\n",
    "df['date'] = pd.to_datetime(df['date'])\n",
    "\n",
    "# Filter hanya baris dengan tahun 2017\n",
    "df_2017 = df[df['date'].dt.year == 2017]\n",
    "\n",
    "# Ambil data hanya untuk bulan pertama\n",
    "start_date = df_2017['date'].min()\n",
    "end_date = start_date + pd.offsets.MonthEnd(2)\n",
    "df_first_month = df_2017.loc[(df_2017['date'] >= start_date) & (df_2017['date'] <= end_date)]\n",
    "\n",
    "# Simpan hasil ke file CSV\n",
    "df_first_month.to_csv('data_third_month.csv', index=False)\n",
    "\n",
    "print(\"Data pada bulan pertama berhasil disimpan ke 'data_third_month.csv'\")\n"
   ]
  },
  {
   "cell_type": "code",
   "execution_count": null,
   "id": "5b98b9ef-181a-4eb3-a842-7083d859d14c",
   "metadata": {},
   "outputs": [],
   "source": []
  }
 ],
 "metadata": {
  "kernelspec": {
   "display_name": "Python 3 (ipykernel)",
   "language": "python",
   "name": "python3"
  },
  "language_info": {
   "codemirror_mode": {
    "name": "ipython",
    "version": 3
   },
   "file_extension": ".py",
   "mimetype": "text/x-python",
   "name": "python",
   "nbconvert_exporter": "python",
   "pygments_lexer": "ipython3",
   "version": "3.12.2"
  }
 },
 "nbformat": 4,
 "nbformat_minor": 5
}
