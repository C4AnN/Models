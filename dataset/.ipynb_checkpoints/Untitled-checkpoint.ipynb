{
 "cells": [
  {
   "cell_type": "code",
   "execution_count": 1,
   "id": "f5f9dfee-d50a-4221-8663-52d3df504499",
   "metadata": {},
   "outputs": [
    {
     "name": "stdout",
     "output_type": "stream",
     "text": [
      "\n",
      "DataFrame setelah penghapusan:\n",
      "                                                    name     price  \\\n",
      "0      Lenovo IdeaPad S145-14AST 71ID AMD A4 1TB Win1...   4350000   \n",
      "1      Lenovo Ideapad 320 intel Corei3/Ram 4gb/Hdd 1t...   5500000   \n",
      "2                 LENOVO ideapad 3 14ARE05 RYZEN 3 4300U   7299000   \n",
      "3                          Lenovo Ideapad 330-1QID Black   3850000   \n",
      "4      Lenovo Ideapad ip310 intel Dualcore/Ram 2gb/Hd...   3750000   \n",
      "...                                                  ...       ...   \n",
      "40931  ACER Predator Nitro 7 AN715-51-701Y- i7 9750H ...  13999000   \n",
      "40932  ACER NITRO 5 AN515-55 I7-10750H 8GB 512GB GTX1...  14499000   \n",
      "40933  ACER PREDATOR NITRO 5 AN515-55 i5-10300H 8GB 5...  12799000   \n",
      "40934  Acer Predator Nitro 5 i5-10300H 16GB 512GB GTX...  13299000   \n",
      "40935  Acer Predator Nitro 5 AN515-55 i5-10300H GTX16...  12499000   \n",
      "\n",
      "             date  sales  \n",
      "0      2016-01-01     21  \n",
      "1      2016-01-02     13  \n",
      "2      2016-01-03     12  \n",
      "3      2016-01-04     12  \n",
      "4      2016-01-05     12  \n",
      "...           ...    ...  \n",
      "40931  2017-12-27     30  \n",
      "40932  2017-12-28     28  \n",
      "40933  2017-12-29     44  \n",
      "40934  2017-12-30     32  \n",
      "40935  2017-12-31     43  \n",
      "\n",
      "[40936 rows x 4 columns]\n"
     ]
    }
   ],
   "source": [
    "import pandas as pd\n",
    "\n",
    "# Membaca dataset dari file CSV\n",
    "df = pd.read_csv('filtered_store_sales_2016.csv')\n",
    "\n",
    "# Menghapus baris yang memiliki tahun 2017\n",
    "df = df[df['date'] != 2017]\n",
    "\n",
    "# Menampilkan DataFrame setelah penghapusan\n",
    "print(\"\\nDataFrame setelah penghapusan:\")\n",
    "print(df)\n",
    "\n",
    "# Menyimpan DataFrame yang sudah dimodifikasi kembali ke file CSV yang sama\n",
    "df.to_csv('filtered_store_sales_2016.csv', index=False)\n"
   ]
  },
  {
   "cell_type": "code",
   "execution_count": null,
   "id": "c1f880ff-83f9-4f14-bcda-51d5cac84e50",
   "metadata": {},
   "outputs": [],
   "source": []
  }
 ],
 "metadata": {
  "kernelspec": {
   "display_name": "Python 3 (ipykernel)",
   "language": "python",
   "name": "python3"
  },
  "language_info": {
   "codemirror_mode": {
    "name": "ipython",
    "version": 3
   },
   "file_extension": ".py",
   "mimetype": "text/x-python",
   "name": "python",
   "nbconvert_exporter": "python",
   "pygments_lexer": "ipython3",
   "version": "3.12.2"
  }
 },
 "nbformat": 4,
 "nbformat_minor": 5
}
