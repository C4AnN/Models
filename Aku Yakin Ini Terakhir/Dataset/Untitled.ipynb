{
 "cells": [
  {
   "cell_type": "code",
   "execution_count": 2,
   "id": "f5f9dfee-d50a-4221-8663-52d3df504499",
   "metadata": {},
   "outputs": [
    {
     "name": "stdout",
     "output_type": "stream",
     "text": [
      "DataFrame sebelum penghapusan:\n",
      "                                                    name     price  date  \\\n",
      "0      Lenovo IdeaPad S145-14AST 71ID AMD A4 1TB Win1...   4350000  2016   \n",
      "1      Lenovo Ideapad 320 intel Corei3/Ram 4gb/Hdd 1t...   5500000  2016   \n",
      "2                 LENOVO ideapad 3 14ARE05 RYZEN 3 4300U   7299000  2016   \n",
      "3                          Lenovo Ideapad 330-1QID Black   3850000  2016   \n",
      "4      Lenovo Ideapad ip310 intel Dualcore/Ram 2gb/Hd...   3750000  2016   \n",
      "...                                                  ...       ...   ...   \n",
      "40931  ACER Predator Nitro 7 AN715-51-701Y- i7 9750H ...  13999000  2017   \n",
      "40932  ACER NITRO 5 AN515-55 I7-10750H 8GB 512GB GTX1...  14499000  2017   \n",
      "40933  ACER PREDATOR NITRO 5 AN515-55 i5-10300H 8GB 5...  12799000  2017   \n",
      "40934  Acer Predator Nitro 5 i5-10300H 16GB 512GB GTX...  13299000  2017   \n",
      "40935  Acer Predator Nitro 5 AN515-55 i5-10300H GTX16...  12499000  2017   \n",
      "\n",
      "       sales  \n",
      "0         21  \n",
      "1         13  \n",
      "2         12  \n",
      "3         12  \n",
      "4         12  \n",
      "...      ...  \n",
      "40931     30  \n",
      "40932     28  \n",
      "40933     44  \n",
      "40934     32  \n",
      "40935     43  \n",
      "\n",
      "[40936 rows x 4 columns]\n",
      "\n",
      "DataFrame setelah penghapusan:\n",
      "                                                    name     price  date  \\\n",
      "0      Lenovo IdeaPad S145-14AST 71ID AMD A4 1TB Win1...   4350000  2016   \n",
      "1      Lenovo Ideapad 320 intel Corei3/Ram 4gb/Hdd 1t...   5500000  2016   \n",
      "2                 LENOVO ideapad 3 14ARE05 RYZEN 3 4300U   7299000  2016   \n",
      "3                          Lenovo Ideapad 330-1QID Black   3850000  2016   \n",
      "4      Lenovo Ideapad ip310 intel Dualcore/Ram 2gb/Hd...   3750000  2016   \n",
      "...                                                  ...       ...   ...   \n",
      "40566  Lenovo Ideapad Slim 5 14IIL05 K5iD i5-1035G1 5...  11018000  2016   \n",
      "40567  Lenovo IdeaPad Slim 3 14ARE05 | Ryzen 3 4300U ...   8499000  2016   \n",
      "40568  Lenovo IdeaPad 5 14ITL05 Core i5-1135G7 8GB 51...  11299000  2016   \n",
      "40569  Lenovo IdeaPad 3 14IIL05 Core i3-1005G1 MX330 ...   8399000  2016   \n",
      "40570  Lenovo IdeaPad Flex 5 AMD| Ryzen 3 4300U 8GB 5...   9999000  2016   \n",
      "\n",
      "       sales  \n",
      "0         21  \n",
      "1         13  \n",
      "2         12  \n",
      "3         12  \n",
      "4         12  \n",
      "...      ...  \n",
      "40566     37  \n",
      "40567     42  \n",
      "40568     30  \n",
      "40569     31  \n",
      "40570     47  \n",
      "\n",
      "[20496 rows x 4 columns]\n"
     ]
    }
   ],
   "source": [
    "import pandas as pd\n",
    "\n",
    "# Membaca dataset dari file CSV\n",
    "df = pd.read_csv('filtered_store_sales_2016.csv')\n",
    "\n",
    "# Jika kolom 'date' berisi tanggal lengkap, ubah menjadi hanya tahun\n",
    "# Misalkan kolom 'date' berisi format 'YYYY-MM-DD', kita ekstrak tahun\n",
    "df['date'] = pd.to_datetime(df['date']).dt.year\n",
    "\n",
    "# Menampilkan DataFrame sebelum penghapusan\n",
    "print(\"DataFrame sebelum penghapusan:\")\n",
    "print(df)\n",
    "\n",
    "# Menghapus baris yang memiliki tahun 2017\n",
    "df = df[df['date'] != 2017]\n",
    "\n",
    "# Menampilkan DataFrame setelah penghapusan\n",
    "print(\"\\nDataFrame setelah penghapusan:\")\n",
    "print(df)\n",
    "\n",
    "# Menyimpan DataFrame yang sudah dimodifikasi kembali ke file CSV yang sama\n",
    "df.to_csv('filtered_store_sales_2016.csv', index=False)\n"
   ]
  },
  {
   "cell_type": "code",
   "execution_count": null,
   "id": "c1f880ff-83f9-4f14-bcda-51d5cac84e50",
   "metadata": {},
   "outputs": [],
   "source": []
  }
 ],
 "metadata": {
  "kernelspec": {
   "display_name": "Python 3 (ipykernel)",
   "language": "python",
   "name": "python3"
  },
  "language_info": {
   "codemirror_mode": {
    "name": "ipython",
    "version": 3
   },
   "file_extension": ".py",
   "mimetype": "text/x-python",
   "name": "python",
   "nbconvert_exporter": "python",
   "pygments_lexer": "ipython3",
   "version": "3.12.2"
  }
 },
 "nbformat": 4,
 "nbformat_minor": 5
}
