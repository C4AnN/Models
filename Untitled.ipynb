{
 "cells": [
  {
   "cell_type": "code",
   "execution_count": 10,
   "id": "2e7da9d8-72ea-4627-af72-3c95a4762ec8",
   "metadata": {},
   "outputs": [
    {
     "name": "stdout",
     "output_type": "stream",
     "text": [
      "Checking files in directory: dataset/January 2021/January 2021/Tokped/Dell\n",
      "Absolute path: D:\\Kuliah\\MSIB Bangkit\\Project\\Models\\dataset\\January 2021\\January 2021\\Tokped\\Dell\n",
      "Reading file: dataset/January 2021/January 2021/Tokped/Dell\\inspiron_tokped_14_01_2021.csv\n",
      "Reading file: dataset/January 2021/January 2021/Tokped/Dell\\inspiron_tokped_15_01_2021.csv\n",
      "Reading file: dataset/January 2021/January 2021/Tokped/Dell\\inspiron_tokped_16_01_2021.csv\n",
      "Reading file: dataset/January 2021/January 2021/Tokped/Dell\\inspiron_tokped_18_01_2021.csv\n",
      "Reading file: dataset/January 2021/January 2021/Tokped/Dell\\inspiron_tokped_19_01_2021.csv\n",
      "Reading file: dataset/January 2021/January 2021/Tokped/Dell\\inspiron_tokped_20_01_2021.csv\n",
      "Reading file: dataset/January 2021/January 2021/Tokped/Dell\\inspiron_tokped_21_01_2021.csv\n",
      "Reading file: dataset/January 2021/January 2021/Tokped/Dell\\inspiron_tokped_22_01_2021.csv\n",
      "Reading file: dataset/January 2021/January 2021/Tokped/Dell\\inspiron_tokped_23_01_2021.csv\n",
      "Reading file: dataset/January 2021/January 2021/Tokped/Dell\\inspiron_tokped_25_01_2021.csv\n",
      "Reading file: dataset/January 2021/January 2021/Tokped/Dell\\inspiron_tokped_26_01_2021.csv\n",
      "Reading file: dataset/January 2021/January 2021/Tokped/Dell\\inspiron_tokped_27_01_2021.csv\n",
      "Reading file: dataset/January 2021/January 2021/Tokped/Dell\\inspiron_tokped_28_01_2021.csv\n",
      "Reading file: dataset/January 2021/January 2021/Tokped/Dell\\inspiron_tokped_29_01_2021.csv\n",
      "Saving combined DataFrame to: dataset/data_combined.csv\n"
     ]
    }
   ],
   "source": [
    "import os\n",
    "import pandas as pd\n",
    "import glob\n",
    "\n",
    "# Path ke folder yang berisi file CSV\n",
    "path = \"dataset/January 2021/January 2021/Tokped/Dell\"\n",
    "\n",
    "# Debug output untuk memastikan path yang digunakan\n",
    "print(f\"Checking files in directory: {path}\")\n",
    "print(f\"Absolute path: {os.path.abspath(path)}\")\n",
    "\n",
    "# Menggunakan glob untuk menemukan semua file CSV di dalam folder\n",
    "all_files = glob.glob(path + \"/*.csv\")\n",
    "\n",
    "# Memeriksa apakah ada file yang ditemukan\n",
    "if not all_files:\n",
    "    raise ValueError(f\"No CSV files found in the directory: {path}\")\n",
    "\n",
    "# Membaca dan menggabungkan semua file CSV\n",
    "df_list = []\n",
    "for filename in all_files:\n",
    "    print(f\"Reading file: {filename}\")  # Debug output\n",
    "    df = pd.read_csv(filename)\n",
    "    if not df.empty:\n",
    "        df_list.append(df)\n",
    "    else:\n",
    "        print(f\"Warning: {filename} is empty and will be skipped.\")\n",
    "\n",
    "# Memeriksa apakah ada DataFrame yang valid untuk digabungkan\n",
    "if not df_list:\n",
    "    raise ValueError(\"No valid DataFrames to concatenate. All files may be empty.\")\n",
    "\n",
    "# Menggabungkan semua DataFrame dalam daftar menjadi satu DataFrame\n",
    "combined_df = pd.concat(df_list, ignore_index=True)\n",
    "\n",
    "# Menyimpan hasil gabungan ke file CSV baru\n",
    "output_path = \"dataset/data_combined.csv\"\n",
    "print(f\"Saving combined DataFrame to: {output_path}\")  # Debug output\n",
    "combined_df.to_csv(output_path, index=False)\n"
   ]
  },
  {
   "cell_type": "code",
   "execution_count": 13,
   "id": "dfc5bb5b-cb54-46f0-a83d-a222d4df149e",
   "metadata": {},
   "outputs": [
    {
     "name": "stdout",
     "output_type": "stream",
     "text": [
      "                                                   name       price  \\\n",
      "0     DELL Inspiron 14-3493 [Core i3-1005G1/14\"FHD/4...   6.799.000   \n",
      "1     Dell Inspiron 15 5583 i5-8265 8GB 2TB GARANSI ...  11.499.000   \n",
      "2     Dell Inspiron 5402 [Ci7-1165G7-8-512-NVD-W10-O...  15.299.000   \n",
      "3     DELL INSPIRON 3881 i7 10700F 16GB 512GB GTX166...  16.990.000   \n",
      "4     Dell Inspiron AIO 5400 [Ci7-1165G7-8-256+1T-NV...  14.499.000   \n",
      "...                                                 ...         ...   \n",
      "1755                             Dell Inspiron AiO 3064   7.100.000   \n",
      "1756  DELL INSPIRON AIO 5477 (i5-8400/8GB/2TB/GTX105...  16.099.999   \n",
      "1757  Dell Inspiron 3481 I3 7020U 4GB 1TB AMD RADEON...   6.740.000   \n",
      "1758  Obrallll Laptop Thinlpad L530 ci5 3rd gen Mura...   2.450.000   \n",
      "1759        LAPTOP HP 820 g2 i7gen5 8gb hdd500 FREE TAS   4.850.000   \n",
      "\n",
      "           location sold                                               link  \\\n",
      "0       Kab. Batang    3  https://ta.tokopedia.com/promo/v1/clicks/8a-xg...   \n",
      "1     Jakarta Utara    3  https://ta.tokopedia.com/promo/v1/clicks/8a-xg...   \n",
      "2             Depok    2  https://ta.tokopedia.com/promo/v1/clicks/8a-xg...   \n",
      "3     Jakarta Utara    7  https://ta.tokopedia.com/promo/v1/clicks/8a-xg...   \n",
      "4             Depok   15  https://ta.tokopedia.com/promo/v1/clicks/8a-xg...   \n",
      "...             ...  ...                                                ...   \n",
      "1755       Surabaya    1  https://www.tokopedia.com/abay-computer/dell-i...   \n",
      "1756  Jakarta Pusat    1  https://www.tokopedia.com/miemiamie/dell-inspi...   \n",
      "1757  Jakarta Timur    1  https://www.tokopedia.com/utamashopjkt/dell-in...   \n",
      "1758  Jakarta Pusat   11  https://ta.tokopedia.com/promo/v1/clicks/8a-xg...   \n",
      "1759  Jakarta Barat    8  https://ta.tokopedia.com/promo/v1/clicks/8a-xg...   \n",
      "\n",
      "            date  \n",
      "0     14-01-2021  \n",
      "1     14-01-2021  \n",
      "2     14-01-2021  \n",
      "3     14-01-2021  \n",
      "4     14-01-2021  \n",
      "...          ...  \n",
      "1755  29-01-2021  \n",
      "1756  29-01-2021  \n",
      "1757  29-01-2021  \n",
      "1758  29-01-2021  \n",
      "1759  29-01-2021  \n",
      "\n",
      "[1760 rows x 6 columns]\n"
     ]
    }
   ],
   "source": [
    "df = pd.read_csv(\"dataset/data_combined.csv\")\n",
    "\n",
    "print(df)"
   ]
  },
  {
   "cell_type": "code",
   "execution_count": 19,
   "id": "6ff6c0fa-7eed-4dbc-8348-3d61a7d53270",
   "metadata": {},
   "outputs": [
    {
     "name": "stdout",
     "output_type": "stream",
     "text": [
      "File CSV baru telah dibuat: dataset/data_combined_processed.csv\n"
     ]
    }
   ],
   "source": [
    "import pandas as pd\n",
    "\n",
    "# Membaca file CSV\n",
    "file_path = \"dataset/data_combined.csv\"\n",
    "df = pd.read_csv(file_path)\n",
    "\n",
    "# Menambahkan kolom 'terjual' yang berisi jumlah penjualan untuk setiap entri yang memiliki nilai yang sama di kolom 'name'\n",
    "df['terjual'] = df.groupby('name').cumcount() + 1\n",
    "\n",
    "# Menggabungkan baris yang memiliki nilai yang sama di kolom 'name'\n",
    "df = df.drop_duplicates(subset='name')\n",
    "\n",
    "# Menyimpan DataFrame hasil penggabungan dan penghapusan duplikat ke file CSV baru\n",
    "output_file_path = \"dataset/data_combined_processed.csv\"\n",
    "df.to_csv(output_file_path, index=False)\n",
    "\n",
    "print(\"File CSV baru telah dibuat:\", output_file_path)\n"
   ]
  },
  {
   "cell_type": "code",
   "execution_count": null,
   "id": "fc5ef190-d625-4402-9afd-2b665c75991a",
   "metadata": {},
   "outputs": [],
   "source": []
  }
 ],
 "metadata": {
  "kernelspec": {
   "display_name": "Python 3 (ipykernel)",
   "language": "python",
   "name": "python3"
  },
  "language_info": {
   "codemirror_mode": {
    "name": "ipython",
    "version": 3
   },
   "file_extension": ".py",
   "mimetype": "text/x-python",
   "name": "python",
   "nbconvert_exporter": "python",
   "pygments_lexer": "ipython3",
   "version": "3.12.2"
  }
 },
 "nbformat": 4,
 "nbformat_minor": 5
}
