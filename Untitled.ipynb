{
 "cells": [
  {
   "cell_type": "code",
   "execution_count": 1,
   "id": "2e7da9d8-72ea-4627-af72-3c95a4762ec8",
   "metadata": {},
   "outputs": [
    {
     "name": "stderr",
     "output_type": "stream",
     "text": [
      "\n",
      "KeyboardInterrupt\n",
      "\n"
     ]
    }
   ],
   "source": [
    "import pandas as pd\n",
    "import glob\n",
    "\n",
    "# Path ke folder yang berisi file CSV\n",
    "path = \"path/to/csv/files/\"\n",
    "\n",
    "# Menggunakan glob untuk menemukan semua file CSV di dalam folder\n",
    "all_files = glob.glob(path + \"/*.csv\")\n",
    "\n",
    "# Membaca dan menggabungkan semua file CSV\n",
    "df_list = []\n",
    "for filename in all_files:\n",
    "    df = pd.read_csv(filename)\n",
    "    df_list.append(df)\n",
    "\n",
    "# Menggabungkan semua DataFrame dalam daftar menjadi satu DataFrame\n",
    "combined_df = pd.concat(df_list, ignore_index=True)\n",
    "\n",
    "# Menyimpan hasil gabungan ke file CSV baru\n",
    "combined_df.to_csv(\"path/to/save/combined.csv\", index=False)\n"
   ]
  },
  {
   "cell_type": "code",
   "execution_count": null,
   "id": "dfc5bb5b-cb54-46f0-a83d-a222d4df149e",
   "metadata": {},
   "outputs": [],
   "source": []
  }
 ],
 "metadata": {
  "kernelspec": {
   "display_name": "Python 3 (ipykernel)",
   "language": "python",
   "name": "python3"
  },
  "language_info": {
   "codemirror_mode": {
    "name": "ipython",
    "version": 3
   },
   "file_extension": ".py",
   "mimetype": "text/x-python",
   "name": "python",
   "nbconvert_exporter": "python",
   "pygments_lexer": "ipython3",
   "version": "3.12.2"
  }
 },
 "nbformat": 4,
 "nbformat_minor": 5
}
