{
 "cells": [
  {
   "cell_type": "code",
   "execution_count": null,
   "id": "561d3fba-dad8-41e4-90d6-edd309b2b023",
   "metadata": {},
   "outputs": [],
   "source": [
    "import tensorflow as tf\n",
    "\n",
    "# Daftar path model .keras dan path untuk menyimpan model .tflite\n",
    "keras_model_paths = ['model/low_model.keras', 'model/mid_model.keras', 'model/high_model.keras']\n",
    "tflite_model_paths = ['model/low_model.tflite', 'model/mid_model.tflite', 'model/high_model.tflite']\n",
    "\n",
    "# Fungsi untuk mengkonversi model Keras ke TF Lite\n",
    "def convert_keras_to_tflite(keras_model_path, tflite_model_path):\n",
    "    # Muat model dari file .keras\n",
    "    model = tf.keras.models.load_model(keras_model_path)\n",
    "    \n",
    "    # Konversi model ke format TF Lite\n",
    "    converter = tf.lite.TFLiteConverter.from_keras_model(model)\n",
    "    tflite_model = converter.convert()\n",
    "    \n",
    "    # Simpan model TF Lite ke file\n",
    "    with open(tflite_model_path, 'wb') as f:\n",
    "        f.write(tflite_model)\n",
    "    print(f\"Model {keras_model_path} telah berhasil dikonversi dan disimpan di {tflite_model_path}\")\n",
    "\n",
    "# Konversi semua model dalam daftar\n",
    "for keras_path, tflite_path in zip(keras_model_paths, tflite_model_paths):\n",
    "    convert_keras_to_tflite(keras_path, tflite_path)\n"
   ]
  }
 ],
 "metadata": {
  "kernelspec": {
   "display_name": "Python 3 (ipykernel)",
   "language": "python",
   "name": "python3"
  },
  "language_info": {
   "codemirror_mode": {
    "name": "ipython",
    "version": 3
   },
   "file_extension": ".py",
   "mimetype": "text/x-python",
   "name": "python",
   "nbconvert_exporter": "python",
   "pygments_lexer": "ipython3",
   "version": "3.12.2"
  }
 },
 "nbformat": 4,
 "nbformat_minor": 5
}
